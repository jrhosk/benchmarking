{
 "cells": [
  {
   "cell_type": "code",
   "execution_count": 6,
   "metadata": {},
   "outputs": [],
   "source": [
    "import yaml\n",
    "import panel as pn\n",
    "#import casatasks\n",
    "#import casatools\n",
    "\n",
    "#import notebook_testing as nt"
   ]
  },
  {
   "cell_type": "code",
   "execution_count": 7,
   "metadata": {},
   "outputs": [
    {
     "name": "stdout",
     "output_type": "stream",
     "text": [
      "/home/jhoskins/anaconda3/envs/python36/bin/python\n"
     ]
    }
   ],
   "source": [
    "!which python"
   ]
  },
  {
   "cell_type": "code",
   "execution_count": null,
   "metadata": {},
   "outputs": [],
   "source": [
    "pn.extension()"
   ]
  },
  {
   "cell_type": "code",
   "execution_count": 10,
   "metadata": {},
   "outputs": [
    {
     "name": "stdout",
     "output_type": "stream",
     "text": [
      "Requirement already satisfied: casatools in /home/jhoskins/anaconda3/envs/python36/lib/python3.6/site-packages (6.2.0.124)\n",
      "Requirement already satisfied: numpy in /home/jhoskins/anaconda3/envs/python36/lib/python3.6/site-packages (from casatools) (1.19.5)\n",
      "Collecting casatasks\n",
      "  Using cached casatasks-6.2.0.124-py3-none-any.whl (1.7 MB)\n",
      "Collecting matplotlib\n",
      "  Downloading matplotlib-3.3.4-cp36-cp36m-manylinux1_x86_64.whl (11.5 MB)\n",
      "\u001b[K     |████████████████████████████████| 11.5 MB 5.4 MB/s eta 0:00:01\n",
      "\u001b[?25hRequirement already satisfied: casatools==6.2.0.124 in /home/jhoskins/anaconda3/envs/python36/lib/python3.6/site-packages (from casatasks) (6.2.0.124)\n",
      "Collecting scipy\n",
      "  Using cached scipy-1.5.4-cp36-cp36m-manylinux1_x86_64.whl (25.9 MB)\n",
      "Requirement already satisfied: numpy in /home/jhoskins/anaconda3/envs/python36/lib/python3.6/site-packages (from casatools==6.2.0.124->casatasks) (1.19.5)\n",
      "Requirement already satisfied: python-dateutil>=2.1 in /home/jhoskins/anaconda3/envs/python36/lib/python3.6/site-packages (from matplotlib->casatasks) (2.8.2)\n",
      "Collecting cycler>=0.10\n",
      "  Using cached cycler-0.10.0-py2.py3-none-any.whl (6.5 kB)\n",
      "Collecting pillow>=6.2.0\n",
      "  Downloading Pillow-8.3.1-cp36-cp36m-manylinux_2_5_x86_64.manylinux1_x86_64.whl (3.0 MB)\n",
      "\u001b[K     |████████████████████████████████| 3.0 MB 5.2 MB/s eta 0:00:01\n",
      "\u001b[?25hCollecting kiwisolver>=1.0.1\n",
      "  Downloading kiwisolver-1.3.1-cp36-cp36m-manylinux1_x86_64.whl (1.1 MB)\n",
      "\u001b[K     |████████████████████████████████| 1.1 MB 3.5 MB/s eta 0:00:01\n",
      "\u001b[?25hRequirement already satisfied: pyparsing!=2.0.4,!=2.1.2,!=2.1.6,>=2.0.3 in /home/jhoskins/anaconda3/envs/python36/lib/python3.6/site-packages (from matplotlib->casatasks) (2.4.7)\n",
      "Requirement already satisfied: six in /home/jhoskins/anaconda3/envs/python36/lib/python3.6/site-packages (from cycler>=0.10->matplotlib->casatasks) (1.16.0)\n",
      "Installing collected packages: pillow, kiwisolver, cycler, scipy, matplotlib, casatasks\n",
      "Successfully installed casatasks-6.2.0.124 cycler-0.10.0 kiwisolver-1.3.1 matplotlib-3.3.4 pillow-8.3.1 scipy-1.5.4\n"
     ]
    }
   ],
   "source": [
    "!/home/jhoskins/anaconda3/envs/python36/bin/python -m pip install casatools\n",
    "!/home/jhoskins/anaconda3/envs/python36/bin/python -m pip install casatasks"
   ]
  },
  {
   "cell_type": "code",
   "execution_count": 11,
   "metadata": {},
   "outputs": [
    {
     "ename": "ModuleNotFoundError",
     "evalue": "No module named 'casatools'",
     "output_type": "error",
     "traceback": [
      "\u001b[0;31m---------------------------------------------------------------------------\u001b[0m",
      "\u001b[0;31mModuleNotFoundError\u001b[0m                       Traceback (most recent call last)",
      "\u001b[0;32m<ipython-input-11-2607ad83e583>\u001b[0m in \u001b[0;36m<module>\u001b[0;34m\u001b[0m\n\u001b[0;32m----> 1\u001b[0;31m \u001b[0;32mimport\u001b[0m \u001b[0mcasatools\u001b[0m\u001b[0;34m\u001b[0m\u001b[0;34m\u001b[0m\u001b[0m\n\u001b[0m",
      "\u001b[0;31mModuleNotFoundError\u001b[0m: No module named 'casatools'"
     ]
    }
   ],
   "source": [
    "import casatools"
   ]
  },
  {
   "cell_type": "code",
   "execution_count": null,
   "metadata": {},
   "outputs": [],
   "source": [
    "class TCleanPanel():\n",
    "    \n",
    "    def __init__(self):\n",
    "        OPTIONS = [('I', 'I'), ('Q', 'Q'), ('U', 'U'), ('V', 'V')]\n",
    "        \n",
    "        self.vis = pn.widgets.TextInput(\n",
    "            value=\"select ms file ...\", \n",
    "            name=\"Vis\")\n",
    "\n",
    "        self.imagename = TextInput(\n",
    "            value=\"output file name ...\", \n",
    "            title=\"Imagename\")\n",
    "        \n",
    "        self.imsize = pn.widgets.IntInput(\n",
    "            name='imsize', \n",
    "            value=512, \n",
    "            step=1, \n",
    "            start=1, \n",
    "            end=1000)\n",
    "\n",
    "        self.cell = pn.widgets.TextInput(\n",
    "            value=\"8.0arcsec\", \n",
    "            name=\"Cell\")\n",
    "\n",
    "        self.specmode = pn.widgets.TextInput(\n",
    "            value=\"cube\", \n",
    "            name=\"Specmode\")\n",
    "        \n",
    "        self.interpolation = pn.widgets.TextInput(\n",
    "            value=\"nearest\", \n",
    "            name=\"Interpolation\")\n",
    "        \n",
    "        self.nchan = pn.widgets.IntInput(\n",
    "            name='nchan', \n",
    "            value=5, \n",
    "            step=1, \n",
    "            start=1, \n",
    "            end=500)\n",
    "\n",
    "        self.start = pn.widgets.TextInput(\n",
    "            value=\"1.0GHz\", \n",
    "            name=\"Start\")\n",
    "\n",
    "        self.width = pn.widgets.TextInput(\n",
    "            value=\"0.2GHz\", \n",
    "            name=\"Width\")\n",
    "        \n",
    "        self.pblimit = pn.widgets.FloatInput(\n",
    "            name='pblimit', \n",
    "            value=-0.00001, \n",
    "            step=0.000001, \n",
    "            start=-0.000001, \n",
    "            end=-0.0001)\n",
    "\n",
    "        self.deconvolver = pn.widgets.TextInput(\n",
    "            value=\"hogbom\", \n",
    "            name=\"Deconvolver\")\n",
    "        \n",
    "        self.niter = pn.widgets.IntInput(\n",
    "            name='niter', \n",
    "            value=5, \n",
    "            step=1, \n",
    "            start=1, \n",
    "            end=5000)\n",
    "        \n",
    "        self.cyclefactor = pn.widgets.IntInput(\n",
    "            name='cyclefactor', \n",
    "            value=1, \n",
    "            step=1, \n",
    "            start=1, \n",
    "            end=500)\n",
    "        \n",
    "        self.interactive = pn.widgets.IntInput(\n",
    "            name='interactive', \n",
    "            value=0, \n",
    "            step=1, \n",
    "            start=0, \n",
    "            end=1)\n",
    "\n",
    "    \n",
    "    # ------\n",
    "    \n",
    "        self.play_button = pn.widgets.Button(\n",
    "            name=\"Play\", \n",
    "            button_type=\"success\",  \n",
    "            margin=(5,1,5,1)) \n",
    "        #icon=SVGIcon(icon_name=\"play\"))\n",
    "    \n",
    "        self.layout = pn.Row(\n",
    "            pn.Column(\n",
    "                self.vis,\n",
    "                self.imagename,\n",
    "                self.imsize,\n",
    "                self.cell,\n",
    "                self.specmode,\n",
    "                self.interpolation,\n",
    "                self.nchan,\n",
    "                self.start,\n",
    "                self.width,\n",
    "                self.pblimit,\n",
    "                self.deconvolver,\n",
    "                self.niter,\n",
    "                self.cyclefactor,\n",
    "                self.interactive,\n",
    "                self.play_button    \n",
    "            )\n",
    "        )"
   ]
  },
  {
   "cell_type": "code",
   "execution_count": null,
   "metadata": {},
   "outputs": [],
   "source": []
  }
 ],
 "metadata": {
  "kernelspec": {
   "display_name": "Python 3",
   "language": "python",
   "name": "python3"
  },
  "language_info": {
   "codemirror_mode": {
    "name": "ipython",
    "version": 3
   },
   "file_extension": ".py",
   "mimetype": "text/x-python",
   "name": "python",
   "nbconvert_exporter": "python",
   "pygments_lexer": "ipython3",
   "version": "3.6.8"
  }
 },
 "nbformat": 4,
 "nbformat_minor": 4
}
