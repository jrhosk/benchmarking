{
 "cells": [
  {
   "cell_type": "code",
   "execution_count": 2,
   "id": "5b5bc222-bc33-484d-9c47-c72161814168",
   "metadata": {},
   "outputs": [],
   "source": [
    "from tclean_options import TCleanOptionsBaseClass\n",
    "\n",
    "import yaml"
   ]
  },
  {
   "cell_type": "code",
   "execution_count": 3,
   "id": "71bae15e-2722-493e-bb6e-8ff5406df242",
   "metadata": {},
   "outputs": [],
   "source": [
    "class cleaner(TCleanOptionsBaseClass):\n",
    "    def __init__(self, config: str):\n",
    "        self.config:str  = config\n",
    "            "
   ]
  },
  {
   "cell_type": "code",
   "execution_count": 4,
   "id": "8a8be8c8-8806-4f0b-bd28-42659223fa10",
   "metadata": {},
   "outputs": [],
   "source": [
    "clean = cleaner('config/tclean.yaml')"
   ]
  },
  {
   "cell_type": "code",
   "execution_count": 5,
   "id": "2414caf0-0792-42aa-811e-11afe2ac67bb",
   "metadata": {},
   "outputs": [
    {
     "data": {
      "text/plain": [
       "'E2E6.1.00034.S_tclean.ms'"
      ]
     },
     "execution_count": 5,
     "metadata": {},
     "output_type": "execute_result"
    }
   ],
   "source": [
    "clean.vis"
   ]
  },
  {
   "cell_type": "code",
   "execution_count": 6,
   "id": "71a18b98-205a-4710-aea0-61057548fde7",
   "metadata": {},
   "outputs": [],
   "source": [
    "clean.read_configuration()"
   ]
  },
  {
   "cell_type": "code",
   "execution_count": null,
   "id": "a1525f57-2667-4f9c-8164-24c0ffc5b82f",
   "metadata": {},
   "outputs": [],
   "source": []
  }
 ],
 "metadata": {
  "kernelspec": {
   "display_name": "Python 3",
   "language": "python",
   "name": "python3"
  },
  "language_info": {
   "codemirror_mode": {
    "name": "ipython",
    "version": 3
   },
   "file_extension": ".py",
   "mimetype": "text/x-python",
   "name": "python",
   "nbconvert_exporter": "python",
   "pygments_lexer": "ipython3",
   "version": "3.9.2"
  }
 },
 "nbformat": 4,
 "nbformat_minor": 5
}
