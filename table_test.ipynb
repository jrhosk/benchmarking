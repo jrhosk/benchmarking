{
 "cells": [
  {
   "cell_type": "code",
   "execution_count": null,
   "metadata": {},
   "outputs": [],
   "source": [
    "import numpy as np\n",
    "import pandas as pd\n",
    "import bokeh as bk\n",
    "import os\n",
    "import json\n",
    "import panel as pn\n",
    "import param\n",
    "\n",
    "from bokeh.models.widgets.tables import NumberFormatter, BooleanFormatter"
   ]
  },
  {
   "cell_type": "code",
   "execution_count": null,
   "metadata": {},
   "outputs": [],
   "source": [
    "pn.extension(sizing_mode=\"stretch_width\")"
   ]
  },
  {
   "cell_type": "code",
   "execution_count": null,
   "metadata": {},
   "outputs": [],
   "source": [
    "def read_in_chunks(file_object, chunk_size=1024):\n",
    "    \"\"\"Lazy function (generator) to read a file piece by piece.\n",
    "    Default chunk size: 1k.\"\"\"\n",
    "    while True:\n",
    "        data = file_object.read(chunk_size)\n",
    "        if not data:\n",
    "            break\n",
    "        yield data\n",
    "        \n",
    "def build_stats_list(json_file_values='', json_file_expected='', test='test_standard_cube'):\n",
    "    with open(json_file_values) as file:\n",
    "        js = json.loads(file.read())\n",
    "        \n",
    "    keys = []\n",
    "    values = []\n",
    "    expected = []\n",
    "\n",
    "    for key, value in js[test]['im_stats_dict'].items():\n",
    "        if isinstance(value, list):\n",
    "            for v in value:\n",
    "                keys.append(key)\n",
    "                values.append(v)\n",
    "        else:\n",
    "            keys.append(key)\n",
    "            values.append(value)\n",
    "            \n",
    "    with open(json_file_expected) as file:\n",
    "        js = json.loads(file.read())\n",
    "    \n",
    "    for key, value in js[test]['exp_im_stats'].items():\n",
    "        if isinstance(value[-1], list):\n",
    "            for v in value[-1]:\n",
    "                expected.append(v)\n",
    "        else:\n",
    "            expected.append(value[-1])\n",
    "            \n",
    "    \n",
    "    \n",
    "    return pd.DataFrame({\n",
    "        'key': keys,\n",
    "        'value': values,\n",
    "        'expected': expected\n",
    "    })\n",
    "\n",
    "def color_negative_red(val):\n",
    "    \"\"\"\n",
    "    Takes a scalar and returns a string with\n",
    "    the css property `'color: red'` for negative\n",
    "    strings, black otherwise.\n",
    "    \"\"\"\n",
    "    color = 'gray' if val < 0 else 'black'\n",
    "    return 'color: %s' % color\n",
    "\n",
    "\n",
    "def stats_table(json_file_values='', json_file_expected='', test='test_standard_cube'):\n",
    "    \n",
    "    df = build_stats_list(\n",
    "        json_file_values='test_standard_cube_current_metrics_6.2.0.124.json', \n",
    "        json_file_expected='test_stk_alma_pipeline_imaging_exp_dicts.json', \n",
    "        test=test\n",
    "    )\n",
    "    \n",
    "    df['pass'] = (abs((df.expected - df.value)/df.expected)) < 0.05\n",
    "    \n",
    "    bokeh_formatters = {\n",
    "        'value': NumberFormatter(format='0.00000'),\n",
    "        'expected': NumberFormatter(format='0.00000'),\n",
    "        'pass': BooleanFormatter(),\n",
    "    }\n",
    "    \n",
    "    pn.widgets.Tabulator.theme = 'site'\n",
    "    \n",
    "    #select = pn.widgets.MultiSelect(options=df.key.unique().tolist(), name='Filter', width=100)\n",
    "    #select = pn.widgets.Select(\n",
    "    #    name='Key select', \n",
    "    #    options=df.key.unique().tolist()\n",
    "    #)\n",
    "    \n",
    "    table = pn.widgets.Tabulator(\n",
    "        df, \n",
    "        layout='fit_data_stretch', \n",
    "        formatters=bokeh_formatters,\n",
    "        groupby=['pass'],\n",
    "        pagination='remote'\n",
    "    )\n",
    "\n",
    "#.style.applymap(\n",
    "#        color_negative_red, \n",
    "#        subset=['pass']\n",
    "#    ).set_properties(**{'color': '#f38494'}, subset=['value'])\n",
    "\n",
    "    #table.add_filter(select, 'key')    \n",
    "    \n",
    "    return table"
   ]
  },
  {
   "cell_type": "code",
   "execution_count": null,
   "metadata": {},
   "outputs": [],
   "source": [
    "#df = build_stats_list(\n",
    "#    json_file_values='test_standard_cube_current_metrics_6.2.0.124.json', \n",
    "#    json_file_expected='test_stk_alma_pipeline_imaging_exp_dicts.json', \n",
    "#    test='test_standard_cube'\n",
    "#)"
   ]
  },
  {
   "cell_type": "code",
   "execution_count": null,
   "metadata": {},
   "outputs": [],
   "source": [
    "#data = df"
   ]
  },
  {
   "cell_type": "code",
   "execution_count": null,
   "metadata": {},
   "outputs": [],
   "source": [
    "#class ReactiveTables(param.Parameterized):\n",
    "#    \n",
    "#    title = param.String(default='TClean Testing Statistics')\n",
    "#    dataset = param.ObjectSelector(default='im_stats', objects=['im_stats', 'im_masks', 'im_image'])\n",
    "#    stat = param.ObjectSelector(default='npts', objects=['all', 'rms_per_chan', 'npts'])\n",
    "#    rows = param.Integer(default=10, bounds=(0, 550))\n",
    "    \n",
    "#    @param.depends('dataset', 'stat')\n",
    "#    def data(self):\n",
    "#        if self.stat == 'all':\n",
    "#            return data\n",
    "#        else:\n",
    "#            return data[data['keys']==self.stat]\n",
    "\n",
    "#    @param.depends('data')\n",
    "#    def summary(self):\n",
    "#        return self.data().describe()\n",
    "    \n",
    "#    @param.depends('title')\n",
    "#    def header(self):\n",
    "#        return '##' + self.title\n",
    "    \n",
    "#    @param.depends('data', 'rows')\n",
    "#    def table(self):\n",
    "#        return self.data().iloc[:self.rows]\n",
    "    \n",
    "#    def panel(self):\n",
    "#        return pn.Row(\n",
    "#            pn.Param(self, name=\"Settings\", width=200, sizing_mode=\"fixed\"),\n",
    "#            pn.Column(self.summary, self.table),\n",
    "#            min_height=1000)"
   ]
  },
  {
   "cell_type": "code",
   "execution_count": null,
   "metadata": {
    "scrolled": false
   },
   "outputs": [],
   "source": [
    "#reactive = ReactiveTables()\n",
    "#reactive.panel().servable()"
   ]
  },
  {
   "cell_type": "code",
   "execution_count": null,
   "metadata": {},
   "outputs": [],
   "source": [
    "df = stats_table(\n",
    "    json_file_values='test_standard_cube_current_metrics_6.2.0.124.json', \n",
    "    json_file_expected='test_stk_alma_pipeline_imaging_exp_dicts.json', \n",
    "    test='test_standard_cube'\n",
    ")"
   ]
  },
  {
   "cell_type": "code",
   "execution_count": null,
   "metadata": {},
   "outputs": [],
   "source": [
    "df"
   ]
  },
  {
   "cell_type": "code",
   "execution_count": null,
   "metadata": {},
   "outputs": [],
   "source": [
    "import stats_table as st"
   ]
  },
  {
   "cell_type": "code",
   "execution_count": null,
   "metadata": {},
   "outputs": [],
   "source": [
    "stats = st.StatsTable(\n",
    "    json_measured='test_standard_cube_current_metrics_6.2.0.124.json', \n",
    "    json_expected='test_stk_alma_pipeline_imaging_exp_dicts.json' \n",
    ")"
   ]
  },
  {
   "cell_type": "code",
   "execution_count": null,
   "metadata": {},
   "outputs": [],
   "source": [
    "stats.stats_table()"
   ]
  },
  {
   "cell_type": "code",
   "execution_count": null,
   "metadata": {},
   "outputs": [],
   "source": []
  },
  {
   "cell_type": "code",
   "execution_count": null,
   "metadata": {},
   "outputs": [],
   "source": []
  }
 ],
 "metadata": {
  "kernelspec": {
   "display_name": "Python 3",
   "language": "python",
   "name": "python3"
  },
  "language_info": {
   "codemirror_mode": {
    "name": "ipython",
    "version": 3
   },
   "file_extension": ".py",
   "mimetype": "text/x-python",
   "name": "python",
   "nbconvert_exporter": "python",
   "pygments_lexer": "ipython3",
   "version": "3.6.8"
  }
 },
 "nbformat": 4,
 "nbformat_minor": 5
}
