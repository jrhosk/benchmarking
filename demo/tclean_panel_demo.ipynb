{
 "cells": [
  {
   "cell_type": "code",
   "execution_count": null,
   "metadata": {},
   "outputs": [],
   "source": [
    "import panel as pn\n",
    "import os\n",
    "import numpy as np\n",
    "import bokeh\n",
    "\n",
    "from bokeh.layouts import column, row, Spacer\n",
    "from bokeh.models import CustomJS, Slider, RadioButtonGroup, TextInput, Button, MultiChoice\n",
    "from bokeh.models import BoxAnnotation, PreText, Range1d, LinearAxis, Span, HoverTool, DataTable, TableColumn\n",
    "from bokeh.events import SelectionGeometry\n",
    "from bokeh.plotting import ColumnDataSource, figure, show\n",
    "\n",
    "import sys\n",
    "import uuid\n",
    "import logging\n",
    "\n",
    "import stakeholder_tools.tclean_panel as tp\n",
    "\n",
    "pn.extension('terminal')"
   ]
  },
  {
   "cell_type": "code",
   "execution_count": null,
   "metadata": {},
   "outputs": [],
   "source": [
    "import casatasks\n",
    "import casatools"
   ]
  },
  {
   "cell_type": "code",
   "execution_count": null,
   "metadata": {},
   "outputs": [],
   "source": [
    "panel = tp.TCleanPanel(terminal=False, config_file='stakeholder_tools/config/tclean.yaml')"
   ]
  },
  {
   "cell_type": "code",
   "execution_count": null,
   "metadata": {
    "scrolled": false
   },
   "outputs": [],
   "source": [
    "panel.layout"
   ]
  },
  {
   "cell_type": "code",
   "execution_count": null,
   "metadata": {},
   "outputs": [],
   "source": []
  }
 ],
 "metadata": {
  "kernelspec": {
   "display_name": "Python 3",
   "language": "python",
   "name": "python3"
  },
  "language_info": {
   "codemirror_mode": {
    "name": "ipython",
    "version": 3
   },
   "file_extension": ".py",
   "mimetype": "text/x-python",
   "name": "python",
   "nbconvert_exporter": "python",
   "pygments_lexer": "ipython3",
   "version": "3.6.8"
  }
 },
 "nbformat": 4,
 "nbformat_minor": 4
}
