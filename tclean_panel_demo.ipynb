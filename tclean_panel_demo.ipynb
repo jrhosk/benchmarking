{
 "cells": [
  {
   "cell_type": "code",
   "execution_count": 2,
   "metadata": {},
   "outputs": [
    {
     "name": "stdout",
     "output_type": "stream",
     "text": [
      "Python 3.8.8\n",
      "/home/jhoskins/anaconda3/bin/python\n"
     ]
    }
   ],
   "source": [
    "import panel as pn\n",
    "import os\n",
    "import numpy as np\n",
    "import bokeh\n",
    "\n",
    "from bokeh.layouts import column, row, Spacer\n",
    "from bokeh.models import CustomJS, Slider, RadioButtonGroup, TextInput, Button, MultiChoice\n",
    "from bokeh.models import BoxAnnotation, PreText, Range1d, LinearAxis, Span, HoverTool, DataTable, TableColumn\n",
    "from bokeh.events import SelectionGeometry\n",
    "from bokeh.plotting import ColumnDataSource, figure, show\n",
    "\n",
    "!python --version\n",
    "!which python"
   ]
  },
  {
   "cell_type": "code",
   "execution_count": null,
   "metadata": {},
   "outputs": [],
   "source": [
    "import sys\n",
    "sys.path.append('/home/jhoskins/anaconda3/lib/python3.8/site-packages')"
   ]
  },
  {
   "cell_type": "code",
   "execution_count": null,
   "metadata": {},
   "outputs": [],
   "source": [
    "print(sys.path)"
   ]
  },
  {
   "cell_type": "code",
   "execution_count": null,
   "metadata": {},
   "outputs": [],
   "source": [
    "!/home/jhoskins/anaconda3/bin/python -m pip install casatasks==6.2.0.124\n",
    "!/home/jhoskins/anaconda3/bin/python -m pip install casatools==6.2.0.124\n",
    "!/home/jhoskins/anaconda3/bin/python -m pip install casatestutils==6.2.0.124"
   ]
  },
  {
   "cell_type": "code",
   "execution_count": null,
   "metadata": {},
   "outputs": [],
   "source": [
    "import casatasks\n",
    "import casatools"
   ]
  },
  {
   "cell_type": "code",
   "execution_count": 9,
   "metadata": {},
   "outputs": [],
   "source": [
    "import yaml\n",
    "\n",
    "class TCleanOptions:\n",
    "    def __init__(self, config_file:str):\n",
    "        self.config_file: str = config_file\n",
    "        \n",
    "        self.vis: str \n",
    "        self.imagename: str \n",
    "        self.imsize: int \n",
    "        self.cell: str \n",
    "        self.specmode: str\n",
    "        self.interpolation: str\n",
    "        self.nchan: int\n",
    "        self.start: str\n",
    "        self.width: str\n",
    "        self.pblimit: float\n",
    "        self.deconvolver: str\n",
    "        self.niter: int\n",
    "        self.cyclefactor: int\n",
    "        self.scales: list\n",
    "        self.interactive: int\n",
    "    \n",
    "    def read_configuration(self)->None:\n",
    "        with open(self.config_file) as file:\n",
    "            config = yaml.full_load(file)\n",
    "        \n",
    "        self.vis = config['tclean']['vis']\n",
    "        self.imagename = config['tclean']['imagename']\n",
    "        self.imsize = config['tclean']['imsize']\n",
    "        self.cell = config['tclean']['cell']\n",
    "        self.specmode = config['tclean']['specmode']\n",
    "        self.interpolation = config['tclean']['interpolation']\n",
    "        self.nchan = config['tclean']['nchan']\n",
    "        self.start = config['tclean']['start']\n",
    "        self.width = config['tclean']['width']\n",
    "        self.pblimit = config['tclean']['pblimit']\n",
    "        self.deconvolver = config['tclean']['deconvolver']\n",
    "        self.niter = config['tclean']['niter']\n",
    "        self.cyclefactor = config['tclean']['cyclefactor']\n",
    "        self.scales = config['tclean']['scales']\n",
    "        self.interactive = config['tclean']['interactive']\n"
   ]
  },
  {
   "cell_type": "code",
   "execution_count": 10,
   "metadata": {},
   "outputs": [],
   "source": [
    "options = TCleanOptions('stakeholder_tools/config/tclean.yaml')\n",
    "options.read_configuration()"
   ]
  },
  {
   "cell_type": "code",
   "execution_count": null,
   "metadata": {},
   "outputs": [],
   "source": [
    "pn.extension()"
   ]
  },
  {
   "cell_type": "code",
   "execution_count": null,
   "metadata": {},
   "outputs": [],
   "source": [
    "class TCleanPanel():\n",
    "    \n",
    "    def __init__(self):\n",
    "        OPTIONS = [('I', 'I'), ('Q', 'Q'), ('U', 'U'), ('V', 'V')]\n",
    "        \n",
    "        self.vis = pn.widgets.TextInput(\n",
    "            value=\"select ms file ...\", \n",
    "            name=\"Vis\")\n",
    "\n",
    "        self.imagename = TextInput(\n",
    "            value=\"output file name ...\", \n",
    "            title=\"Imagename\")\n",
    "        \n",
    "        self.imsize = pn.widgets.IntInput(\n",
    "            name='imsize', \n",
    "            value=512, \n",
    "            step=1, \n",
    "            start=1, \n",
    "            end=1000)\n",
    "\n",
    "        self.cell = pn.widgets.TextInput(\n",
    "            value=\"8.0arcsec\", \n",
    "            name=\"Cell\")\n",
    "\n",
    "        self.specmode = pn.widgets.TextInput(\n",
    "            value=\"cube\", \n",
    "            name=\"Specmode\")\n",
    "        \n",
    "        self.interpolation = pn.widgets.TextInput(\n",
    "            value=\"nearest\", \n",
    "            name=\"Interpolation\")\n",
    "        \n",
    "        self.nchan = pn.widgets.IntInput(\n",
    "            name='nchan', \n",
    "            value=5, \n",
    "            step=1, \n",
    "            start=1, \n",
    "            end=500)\n",
    "\n",
    "        self.start = pn.widgets.TextInput(\n",
    "            value=\"1.0GHz\", \n",
    "            name=\"Start\")\n",
    "\n",
    "        self.width = pn.widgets.TextInput(\n",
    "            value=\"0.2GHz\", \n",
    "            name=\"Width\")\n",
    "        \n",
    "        self.pblimit = pn.widgets.FloatInput(\n",
    "            name='pblimit', \n",
    "            value=-0.00001, \n",
    "            step=0.000001, \n",
    "            start=-0.000001, \n",
    "            end=-0.0001)\n",
    "\n",
    "        self.deconvolver = pn.widgets.TextInput(\n",
    "            value=\"hogbom\", \n",
    "            name=\"Deconvolver\")\n",
    "        \n",
    "        self.niter = pn.widgets.IntInput(\n",
    "            name='niter', \n",
    "            value=5, \n",
    "            step=1, \n",
    "            start=1, \n",
    "            end=5000)\n",
    "        \n",
    "        self.cyclefactor = pn.widgets.IntInput(\n",
    "            name='cyclefactor', \n",
    "            value=1, \n",
    "            step=1, \n",
    "            start=1, \n",
    "            end=500)\n",
    "        \n",
    "        self.interactive = pn.widgets.IntInput(\n",
    "            name='interactive', \n",
    "            value=0, \n",
    "            step=1, \n",
    "            start=0, \n",
    "            end=1)\n",
    "\n",
    "    \n",
    "    # ------\n",
    "    \n",
    "        self.play_button = pn.widgets.Button(\n",
    "            name=\"Play\", \n",
    "            button_type=\"success\",  \n",
    "            margin=(5,1,5,1)) \n",
    "        #icon=SVGIcon(icon_name=\"play\"))\n",
    "    \n",
    "        self.layout = pn.Row(\n",
    "            pn.Column(\n",
    "                self.vis,\n",
    "                self.imagename,\n",
    "                self.imsize,\n",
    "                self.cell,\n",
    "                self.specmode,\n",
    "                self.interpolation,\n",
    "                self.nchan,\n",
    "                self.start,\n",
    "                self.width,\n",
    "                self.pblimit,\n",
    "                self.deconvolver,\n",
    "                self.niter,\n",
    "                self.cyclefactor,\n",
    "                self.interactive,\n",
    "                self.play_button    \n",
    "            )\n",
    "        )"
   ]
  },
  {
   "cell_type": "code",
   "execution_count": null,
   "metadata": {},
   "outputs": [],
   "source": [
    "tclean = TCleanPanel()"
   ]
  },
  {
   "cell_type": "code",
   "execution_count": null,
   "metadata": {},
   "outputs": [],
   "source": [
    "tclean.layout"
   ]
  },
  {
   "cell_type": "code",
   "execution_count": null,
   "metadata": {},
   "outputs": [],
   "source": [
    "casatasks.tclean(\n",
    "    vis='../data/sim_data_VLA.ms', \n",
    "    imagename='test', \n",
    "    imsize=options.imsize, \n",
    "    cell=options.cell, \n",
    "    specmode=options.specmode, \n",
    "    interpolation=options.interpolation, \n",
    "    nchan=options.nchan, \n",
    "    start=options.start, \n",
    "    width=options.width, \n",
    "    pblimit=options.pblimit, \n",
    "    deconvolver=options.deconvolver, \n",
    "    niter=options.niter, \n",
    "    cyclefactor=options.cyclefactor, \n",
    "    scales=options.scales, \n",
    "    interactive=0)"
   ]
  }
 ],
 "metadata": {
  "kernelspec": {
   "display_name": "Python 3",
   "language": "python",
   "name": "python3"
  },
  "language_info": {
   "codemirror_mode": {
    "name": "ipython",
    "version": 3
   },
   "file_extension": ".py",
   "mimetype": "text/x-python",
   "name": "python",
   "nbconvert_exporter": "python",
   "pygments_lexer": "ipython3",
   "version": "3.9.2"
  }
 },
 "nbformat": 4,
 "nbformat_minor": 4
}
