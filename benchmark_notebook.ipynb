{
 "cells": [
  {
   "cell_type": "code",
   "execution_count": 1,
   "metadata": {},
   "outputs": [
    {
     "name": "stdout",
     "output_type": "stream",
     "text": [
      "MPIEnvironment not Enabled\n"
     ]
    }
   ],
   "source": [
    "import os\n",
    "\n",
    "import numpy as np\n",
    "from bokeh.layouts import column, row\n",
    "from bokeh.models import CustomJS, Slider, Dropdown\n",
    "from bokeh.plotting import ColumnDataSource, figure, show\n",
    "from bokeh.util.compiler import JavaScript\n",
    "\n",
    "from casatools import image\n",
    "\n",
    "import NotebookTesting as nt"
   ]
  },
  {
   "cell_type": "code",
   "execution_count": 2,
   "metadata": {},
   "outputs": [
    {
     "data": {
      "text/plain": [
       "0"
      ]
     },
     "execution_count": 2,
     "metadata": {},
     "output_type": "execute_result"
    }
   ],
   "source": [
    "# Clean up files form last run\n",
    "os.system('rm -rf standard_cube* *.png *.log *.html')"
   ]
  },
  {
   "cell_type": "code",
   "execution_count": 3,
   "metadata": {},
   "outputs": [
    {
     "name": "stdout",
     "output_type": "stream",
     "text": [
      "Finished CasaTest initialization.\n"
     ]
    }
   ],
   "source": [
    "standard = nt.StandardTest('E2E6.1.00034.S_tclean.ms')"
   ]
  },
  {
   "cell_type": "code",
   "execution_count": 4,
   "metadata": {},
   "outputs": [
    {
     "name": "stdout",
     "output_type": "stream",
     "text": [
      "standard_cube.iter\n",
      "/export/home/ajax/jhoskins/Development/notebook/notebook-testing/standard_cube.iter1\n",
      "\n",
      "STARTING: iter0 routine\n",
      "Copying iter0 files to iter1\n",
      "STARTING: iter1 routine\n",
      "Image list:\n",
      "\n",
      "/export/home/ajax/jhoskins/Development/notebook/notebook-testing/standard_cube.iter1\n",
      "pstr after checkims = [ check_ims ] Image made : ['/export/home/ajax/jhoskins/Development/notebook/notebook-testing/standard_cube.iter1.psf', '/export/home/ajax/jhoskins/Development/notebook/notebook-testing/standard_cube.iter1.residual', '/export/home/ajax/jhoskins/Development/notebook/notebook-testing/standard_cube.iter1.image', '/export/home/ajax/jhoskins/Development/notebook/notebook-testing/standard_cube.iter1.image.pbcor', '/export/home/ajax/jhoskins/Development/notebook/notebook-testing/standard_cube.iter1.mask', '/export/home/ajax/jhoskins/Development/notebook/notebook-testing/standard_cube.iter1.pb', '/export/home/ajax/jhoskins/Development/notebook/notebook-testing/standard_cube.iter1.model', '/export/home/ajax/jhoskins/Development/notebook/notebook-testing/standard_cube.iter1.sumwt'] =  [True, True, True, True, True, True, True, True] ( Pass : should all be True )\n",
      "\n",
      "pstr after check_keywords = [ check_ims ] Image made : ['/export/home/ajax/jhoskins/Development/notebook/notebook-testing/standard_cube.iter1.psf', '/export/home/ajax/jhoskins/Development/notebook/notebook-testing/standard_cube.iter1.residual', '/export/home/ajax/jhoskins/Development/notebook/notebook-testing/standard_cube.iter1.image', '/export/home/ajax/jhoskins/Development/notebook/notebook-testing/standard_cube.iter1.image.pbcor', '/export/home/ajax/jhoskins/Development/notebook/notebook-testing/standard_cube.iter1.mask', '/export/home/ajax/jhoskins/Development/notebook/notebook-testing/standard_cube.iter1.pb', '/export/home/ajax/jhoskins/Development/notebook/notebook-testing/standard_cube.iter1.model', '/export/home/ajax/jhoskins/Development/notebook/notebook-testing/standard_cube.iter1.sumwt'] =  [True, True, True, True, True, True, True, True] ( Pass : should all be True )\n",
      "[check_keywords] /export/home/ajax/jhoskins/Development/notebook/notebook-testing/standard_cube.iter1.psf: entry mpiprocs not found in record miscinfo (Fail)\n",
      "entry chnchnks not found in record miscinfo (Fail)\n",
      "entry memreq not found in record miscinfo (Fail)\n",
      "entry memavail not found in record miscinfo (Fail)\n",
      "[check_keywords] /export/home/ajax/jhoskins/Development/notebook/notebook-testing/standard_cube.iter1.residual: entry mpiprocs not found in record miscinfo (Fail)\n",
      "entry chnchnks not found in record miscinfo (Fail)\n",
      "entry memreq not found in record miscinfo (Fail)\n",
      "entry memavail not found in record miscinfo (Fail)\n",
      "[check_keywords] /export/home/ajax/jhoskins/Development/notebook/notebook-testing/standard_cube.iter1.image: entry mpiprocs not found in record miscinfo (Fail)\n",
      "entry chnchnks not found in record miscinfo (Fail)\n",
      "entry memreq not found in record miscinfo (Fail)\n",
      "entry memavail not found in record miscinfo (Fail)\n",
      "[check_keywords] /export/home/ajax/jhoskins/Development/notebook/notebook-testing/standard_cube.iter1.image.pbcor: entry mpiprocs not found in record miscinfo (Fail)\n",
      "entry chnchnks not found in record miscinfo (Fail)\n",
      "entry memreq not found in record miscinfo (Fail)\n",
      "entry memavail not found in record miscinfo (Fail)\n",
      "[check_keywords] /export/home/ajax/jhoskins/Development/notebook/notebook-testing/standard_cube.iter1.mask: entry mpiprocs not found in record miscinfo (Fail)\n",
      "entry chnchnks not found in record miscinfo (Fail)\n",
      "entry memreq not found in record miscinfo (Fail)\n",
      "entry memavail not found in record miscinfo (Fail)\n",
      "[check_keywords] /export/home/ajax/jhoskins/Development/notebook/notebook-testing/standard_cube.iter1.pb: entry mpiprocs not found in record miscinfo (Fail)\n",
      "entry chnchnks not found in record miscinfo (Fail)\n",
      "entry memreq not found in record miscinfo (Fail)\n",
      "entry memavail not found in record miscinfo (Fail)\n",
      "[check_keywords] /export/home/ajax/jhoskins/Development/notebook/notebook-testing/standard_cube.iter1.model: entry mpiprocs not found in record miscinfo (Fail)\n",
      "entry chnchnks not found in record miscinfo (Fail)\n",
      "entry memreq not found in record miscinfo (Fail)\n",
      "entry memavail not found in record miscinfo (Fail)\n",
      "[check_keywords] /export/home/ajax/jhoskins/Development/notebook/notebook-testing/standard_cube.iter1.sumwt: entry mpiprocs not found in record miscinfo (Fail)\n",
      "entry chnchnks not found in record miscinfo (Fail)\n",
      "entry memreq not found in record miscinfo (Fail)\n",
      "entry memavail not found in record miscinfo (Fail)\n",
      "\n",
      "pstr after check_history = [ check_ims ] Image made : ['/export/home/ajax/jhoskins/Development/notebook/notebook-testing/standard_cube.iter1.psf', '/export/home/ajax/jhoskins/Development/notebook/notebook-testing/standard_cube.iter1.residual', '/export/home/ajax/jhoskins/Development/notebook/notebook-testing/standard_cube.iter1.image', '/export/home/ajax/jhoskins/Development/notebook/notebook-testing/standard_cube.iter1.image.pbcor', '/export/home/ajax/jhoskins/Development/notebook/notebook-testing/standard_cube.iter1.mask', '/export/home/ajax/jhoskins/Development/notebook/notebook-testing/standard_cube.iter1.pb', '/export/home/ajax/jhoskins/Development/notebook/notebook-testing/standard_cube.iter1.model', '/export/home/ajax/jhoskins/Development/notebook/notebook-testing/standard_cube.iter1.sumwt'] =  [True, True, True, True, True, True, True, True] ( Pass : should all be True )\n",
      "[check_keywords] /export/home/ajax/jhoskins/Development/notebook/notebook-testing/standard_cube.iter1.psf: entry mpiprocs not found in record miscinfo (Fail)\n",
      "entry chnchnks not found in record miscinfo (Fail)\n",
      "entry memreq not found in record miscinfo (Fail)\n",
      "entry memavail not found in record miscinfo (Fail)\n",
      "[check_keywords] /export/home/ajax/jhoskins/Development/notebook/notebook-testing/standard_cube.iter1.residual: entry mpiprocs not found in record miscinfo (Fail)\n",
      "entry chnchnks not found in record miscinfo (Fail)\n",
      "entry memreq not found in record miscinfo (Fail)\n",
      "entry memavail not found in record miscinfo (Fail)\n",
      "[check_keywords] /export/home/ajax/jhoskins/Development/notebook/notebook-testing/standard_cube.iter1.image: entry mpiprocs not found in record miscinfo (Fail)\n",
      "entry chnchnks not found in record miscinfo (Fail)\n",
      "entry memreq not found in record miscinfo (Fail)\n",
      "entry memavail not found in record miscinfo (Fail)\n",
      "[check_keywords] /export/home/ajax/jhoskins/Development/notebook/notebook-testing/standard_cube.iter1.image.pbcor: entry mpiprocs not found in record miscinfo (Fail)\n",
      "entry chnchnks not found in record miscinfo (Fail)\n",
      "entry memreq not found in record miscinfo (Fail)\n",
      "entry memavail not found in record miscinfo (Fail)\n",
      "[check_keywords] /export/home/ajax/jhoskins/Development/notebook/notebook-testing/standard_cube.iter1.mask: entry mpiprocs not found in record miscinfo (Fail)\n",
      "entry chnchnks not found in record miscinfo (Fail)\n",
      "entry memreq not found in record miscinfo (Fail)\n",
      "entry memavail not found in record miscinfo (Fail)\n",
      "[check_keywords] /export/home/ajax/jhoskins/Development/notebook/notebook-testing/standard_cube.iter1.pb: entry mpiprocs not found in record miscinfo (Fail)\n",
      "entry chnchnks not found in record miscinfo (Fail)\n",
      "entry memreq not found in record miscinfo (Fail)\n",
      "entry memavail not found in record miscinfo (Fail)\n",
      "[check_keywords] /export/home/ajax/jhoskins/Development/notebook/notebook-testing/standard_cube.iter1.model: entry mpiprocs not found in record miscinfo (Fail)\n",
      "entry chnchnks not found in record miscinfo (Fail)\n",
      "entry memreq not found in record miscinfo (Fail)\n",
      "entry memavail not found in record miscinfo (Fail)\n",
      "[check_keywords] /export/home/ajax/jhoskins/Development/notebook/notebook-testing/standard_cube.iter1.sumwt: entry mpiprocs not found in record miscinfo (Fail)\n",
      "entry chnchnks not found in record miscinfo (Fail)\n",
      "entry memreq not found in record miscinfo (Fail)\n",
      "entry memavail not found in record miscinfo (Fail)\n",
      "[check_history] /export/home/ajax/jhoskins/Development/notebook/notebook-testing/standard_cube.iter1.psf: No calls to tclean were found in history. (Fail)\n",
      "No CASA version was found in history. (Fail)\n",
      "No entries for tclean parameter vis found in history. (Fail).No entries for tclean parameter selectdata found in history. (Fail).No entries for tclean parameter field found in history. (Fail).No entries for tclean parameter spw found in history. (Fail).No entries for tclean parameter timerange found in history. (Fail).No entries for tclean parameter uvrange found in history. (Fail).No entries for tclean parameter antenna found in history. (Fail).No entries for tclean parameter scan found in history. (Fail).No entries for tclean parameter observation found in history. (Fail).No entries for tclean parameter intent found in history. (Fail).No entries for tclean parameter datacolumn found in history. (Fail).No entries for tclean parameter imagename found in history. (Fail).No entries for tclean parameter imsize found in history. (Fail).No entries for tclean parameter cell found in history. (Fail).No entries for tclean parameter phasecenter found in history. (Fail).No entries for tclean parameter stokes found in history. (Fail).No entries for tclean parameter projection found in history. (Fail).No entries for tclean parameter startmodel found in history. (Fail).No entries for tclean parameter specmode found in history. (Fail).No entries for tclean parameter reffreq found in history. (Fail).No entries for tclean parameter nchan found in history. (Fail).No entries for tclean parameter start found in history. (Fail).No entries for tclean parameter width found in history. (Fail).No entries for tclean parameter outframe found in history. (Fail).No entries for tclean parameter veltype found in history. (Fail).No entries for tclean parameter restfreq found in history. (Fail).No entries for tclean parameter interpolation found in history. (Fail).No entries for tclean parameter perchanweightdensity found in history. (Fail).No entries for tclean parameter gridder found in history. (Fail).No entries for tclean parameter facets found in history. (Fail).No entries for tclean parameter psfphasecenter found in history. (Fail).No entries for tclean parameter chanchunks found in history. (Fail).No entries for tclean parameter wprojplanes found in history. (Fail).No entries for tclean parameter vptable found in history. (Fail).No entries for tclean parameter mosweight found in history. (Fail).No entries for tclean parameter aterm found in history. (Fail).No entries for tclean parameter psterm found in history. (Fail).No entries for tclean parameter wbawp found in history. (Fail).No entries for tclean parameter conjbeams found in history. (Fail).No entries for tclean parameter cfcache found in history. (Fail).No entries for tclean parameter usepointing found in history. (Fail).No entries for tclean parameter computepastep found in history. (Fail).No entries for tclean parameter rotatepastep found in history. (Fail).No entries for tclean parameter pointingoffsetsigdev found in history. (Fail).No entries for tclean parameter pblimit found in history. (Fail).No entries for tclean parameter normtype found in history. (Fail).No entries for tclean parameter deconvolver found in history. (Fail).No entries for tclean parameter scales found in history. (Fail).No entries for tclean parameter nterms found in history. (Fail).No entries for tclean parameter smallscalebias found in history. (Fail).No entries for tclean parameter restoration found in history. (Fail).No entries for tclean parameter restoringbeam found in history. (Fail).No entries for tclean parameter pbcor found in history. (Fail).No entries for tclean parameter outlierfile found in history. (Fail).No entries for tclean parameter weighting found in history. (Fail).No entries for tclean parameter robust found in history. (Fail).No entries for tclean parameter noise found in history. (Fail).No entries for tclean parameter npixels found in history. (Fail).No entries for tclean parameter uvtaper found in history. (Fail).No entries for tclean parameter niter found in history. (Fail).No entries for tclean parameter gain found in history. (Fail).No entries for tclean parameter threshold found in history. (Fail).No entries for tclean parameter nsigma found in history. (Fail).No entries for tclean parameter cycleniter found in history. (Fail).No entries for tclean parameter cyclefactor found in history. (Fail).No entries for tclean parameter minpsffraction found in history. (Fail).No entries for tclean parameter maxpsffraction found in history. (Fail).No entries for tclean parameter interactive found in history. (Fail).No entries for tclean parameter usemask found in history. (Fail).No entries for tclean parameter mask found in history. (Fail).No entries for tclean parameter pbmask found in history. (Fail).No entries for tclean parameter sidelobethreshold found in history. (Fail).No entries for tclean parameter noisethreshold found in history. (Fail).No entries for tclean parameter lownoisethreshold found in history. (Fail).No entries for tclean parameter negativethreshold found in history. (Fail).No entries for tclean parameter smoothfactor found in history. (Fail).No entries for tclean parameter minbeamfrac found in history. (Fail).No entries for tclean parameter cutthreshold found in history. (Fail).No entries for tclean parameter growiterations found in history. (Fail).No entries for tclean parameter dogrowprune found in history. (Fail).No entries for tclean parameter minpercentchange found in history. (Fail).No entries for tclean parameter verbose found in history. (Fail).No entries for tclean parameter fastnoise found in history. (Fail).No entries for tclean parameter restart found in history. (Fail).No entries for tclean parameter savemodel found in history. (Fail).No entries for tclean parameter calcres found in history. (Fail).No entries for tclean parameter calcpsf found in history. (Fail).No entries for tclean parameter parallel found in history. (Fail).[check_history] /export/home/ajax/jhoskins/Development/notebook/notebook-testing/standard_cube.iter1.residual: No calls to tclean were found in history. (Fail)\n",
      "No CASA version was found in history. (Fail)\n",
      "No entries for tclean parameter vis found in history. (Fail).No entries for tclean parameter selectdata found in history. (Fail).No entries for tclean parameter field found in history. (Fail).No entries for tclean parameter spw found in history. (Fail).No entries for tclean parameter timerange found in history. (Fail).No entries for tclean parameter uvrange found in history. (Fail).No entries for tclean parameter antenna found in history. (Fail).No entries for tclean parameter scan found in history. (Fail).No entries for tclean parameter observation found in history. (Fail).No entries for tclean parameter intent found in history. (Fail).No entries for tclean parameter datacolumn found in history. (Fail).No entries for tclean parameter imagename found in history. (Fail).No entries for tclean parameter imsize found in history. (Fail).No entries for tclean parameter cell found in history. (Fail).No entries for tclean parameter phasecenter found in history. (Fail).No entries for tclean parameter stokes found in history. (Fail).No entries for tclean parameter projection found in history. (Fail).No entries for tclean parameter startmodel found in history. (Fail).No entries for tclean parameter specmode found in history. (Fail).No entries for tclean parameter reffreq found in history. (Fail).No entries for tclean parameter nchan found in history. (Fail).No entries for tclean parameter start found in history. (Fail).No entries for tclean parameter width found in history. (Fail).No entries for tclean parameter outframe found in history. (Fail).No entries for tclean parameter veltype found in history. (Fail).No entries for tclean parameter restfreq found in history. (Fail).No entries for tclean parameter interpolation found in history. (Fail).No entries for tclean parameter perchanweightdensity found in history. (Fail).No entries for tclean parameter gridder found in history. (Fail).No entries for tclean parameter facets found in history. (Fail).No entries for tclean parameter psfphasecenter found in history. (Fail).No entries for tclean parameter chanchunks found in history. (Fail).No entries for tclean parameter wprojplanes found in history. (Fail).No entries for tclean parameter vptable found in history. (Fail).No entries for tclean parameter mosweight found in history. (Fail).No entries for tclean parameter aterm found in history. (Fail).No entries for tclean parameter psterm found in history. (Fail).No entries for tclean parameter wbawp found in history. (Fail).No entries for tclean parameter conjbeams found in history. (Fail).No entries for tclean parameter cfcache found in history. (Fail).No entries for tclean parameter usepointing found in history. (Fail).No entries for tclean parameter computepastep found in history. (Fail).No entries for tclean parameter rotatepastep found in history. (Fail).No entries for tclean parameter pointingoffsetsigdev found in history. (Fail).No entries for tclean parameter pblimit found in history. (Fail).No entries for tclean parameter normtype found in history. (Fail).No entries for tclean parameter deconvolver found in history. (Fail).No entries for tclean parameter scales found in history. (Fail).No entries for tclean parameter nterms found in history. (Fail).No entries for tclean parameter smallscalebias found in history. (Fail).No entries for tclean parameter restoration found in history. (Fail).No entries for tclean parameter restoringbeam found in history. (Fail).No entries for tclean parameter pbcor found in history. (Fail).No entries for tclean parameter outlierfile found in history. (Fail).No entries for tclean parameter weighting found in history. (Fail).No entries for tclean parameter robust found in history. (Fail).No entries for tclean parameter noise found in history. (Fail).No entries for tclean parameter npixels found in history. (Fail).No entries for tclean parameter uvtaper found in history. (Fail).No entries for tclean parameter niter found in history. (Fail).No entries for tclean parameter gain found in history. (Fail).No entries for tclean parameter threshold found in history. (Fail).No entries for tclean parameter nsigma found in history. (Fail).No entries for tclean parameter cycleniter found in history. (Fail).No entries for tclean parameter cyclefactor found in history. (Fail).No entries for tclean parameter minpsffraction found in history. (Fail).No entries for tclean parameter maxpsffraction found in history. (Fail).No entries for tclean parameter interactive found in history. (Fail).No entries for tclean parameter usemask found in history. (Fail).No entries for tclean parameter mask found in history. (Fail).No entries for tclean parameter pbmask found in history. (Fail).No entries for tclean parameter sidelobethreshold found in history. (Fail).No entries for tclean parameter noisethreshold found in history. (Fail).No entries for tclean parameter lownoisethreshold found in history. (Fail).No entries for tclean parameter negativethreshold found in history. (Fail).No entries for tclean parameter smoothfactor found in history. (Fail).No entries for tclean parameter minbeamfrac found in history. (Fail).No entries for tclean parameter cutthreshold found in history. (Fail).No entries for tclean parameter growiterations found in history. (Fail).No entries for tclean parameter dogrowprune found in history. (Fail).No entries for tclean parameter minpercentchange found in history. (Fail).No entries for tclean parameter verbose found in history. (Fail).No entries for tclean parameter fastnoise found in history. (Fail).No entries for tclean parameter restart found in history. (Fail).No entries for tclean parameter savemodel found in history. (Fail).No entries for tclean parameter calcres found in history. (Fail).No entries for tclean parameter calcpsf found in history. (Fail).No entries for tclean parameter parallel found in history. (Fail).[check_history] /export/home/ajax/jhoskins/Development/notebook/notebook-testing/standard_cube.iter1.image: No calls to tclean were found in history. (Fail)\n",
      "No CASA version was found in history. (Fail)\n",
      "No entries for tclean parameter vis found in history. (Fail).No entries for tclean parameter selectdata found in history. (Fail).No entries for tclean parameter field found in history. (Fail).No entries for tclean parameter spw found in history. (Fail).No entries for tclean parameter timerange found in history. (Fail).No entries for tclean parameter uvrange found in history. (Fail).No entries for tclean parameter antenna found in history. (Fail).No entries for tclean parameter scan found in history. (Fail).No entries for tclean parameter observation found in history. (Fail).No entries for tclean parameter intent found in history. (Fail).No entries for tclean parameter datacolumn found in history. (Fail).No entries for tclean parameter imagename found in history. (Fail).No entries for tclean parameter imsize found in history. (Fail).No entries for tclean parameter cell found in history. (Fail).No entries for tclean parameter phasecenter found in history. (Fail).No entries for tclean parameter stokes found in history. (Fail).No entries for tclean parameter projection found in history. (Fail).No entries for tclean parameter startmodel found in history. (Fail).No entries for tclean parameter specmode found in history. (Fail).No entries for tclean parameter reffreq found in history. (Fail).No entries for tclean parameter nchan found in history. (Fail).No entries for tclean parameter start found in history. (Fail).No entries for tclean parameter width found in history. (Fail).No entries for tclean parameter outframe found in history. (Fail).No entries for tclean parameter veltype found in history. (Fail).No entries for tclean parameter restfreq found in history. (Fail).No entries for tclean parameter interpolation found in history. (Fail).No entries for tclean parameter perchanweightdensity found in history. (Fail).No entries for tclean parameter gridder found in history. (Fail).No entries for tclean parameter facets found in history. (Fail).No entries for tclean parameter psfphasecenter found in history. (Fail).No entries for tclean parameter chanchunks found in history. (Fail).No entries for tclean parameter wprojplanes found in history. (Fail).No entries for tclean parameter vptable found in history. (Fail).No entries for tclean parameter mosweight found in history. (Fail).No entries for tclean parameter aterm found in history. (Fail).No entries for tclean parameter psterm found in history. (Fail).No entries for tclean parameter wbawp found in history. (Fail).No entries for tclean parameter conjbeams found in history. (Fail).No entries for tclean parameter cfcache found in history. (Fail).No entries for tclean parameter usepointing found in history. (Fail).No entries for tclean parameter computepastep found in history. (Fail).No entries for tclean parameter rotatepastep found in history. (Fail).No entries for tclean parameter pointingoffsetsigdev found in history. (Fail).No entries for tclean parameter pblimit found in history. (Fail).No entries for tclean parameter normtype found in history. (Fail).No entries for tclean parameter deconvolver found in history. (Fail).No entries for tclean parameter scales found in history. (Fail).No entries for tclean parameter nterms found in history. (Fail).No entries for tclean parameter smallscalebias found in history. (Fail).No entries for tclean parameter restoration found in history. (Fail).No entries for tclean parameter restoringbeam found in history. (Fail).No entries for tclean parameter pbcor found in history. (Fail).No entries for tclean parameter outlierfile found in history. (Fail).No entries for tclean parameter weighting found in history. (Fail).No entries for tclean parameter robust found in history. (Fail).No entries for tclean parameter noise found in history. (Fail).No entries for tclean parameter npixels found in history. (Fail).No entries for tclean parameter uvtaper found in history. (Fail).No entries for tclean parameter niter found in history. (Fail).No entries for tclean parameter gain found in history. (Fail).No entries for tclean parameter threshold found in history. (Fail).No entries for tclean parameter nsigma found in history. (Fail).No entries for tclean parameter cycleniter found in history. (Fail).No entries for tclean parameter cyclefactor found in history. (Fail).No entries for tclean parameter minpsffraction found in history. (Fail).No entries for tclean parameter maxpsffraction found in history. (Fail).No entries for tclean parameter interactive found in history. (Fail).No entries for tclean parameter usemask found in history. (Fail).No entries for tclean parameter mask found in history. (Fail).No entries for tclean parameter pbmask found in history. (Fail).No entries for tclean parameter sidelobethreshold found in history. (Fail).No entries for tclean parameter noisethreshold found in history. (Fail).No entries for tclean parameter lownoisethreshold found in history. (Fail).No entries for tclean parameter negativethreshold found in history. (Fail).No entries for tclean parameter smoothfactor found in history. (Fail).No entries for tclean parameter minbeamfrac found in history. (Fail).No entries for tclean parameter cutthreshold found in history. (Fail).No entries for tclean parameter growiterations found in history. (Fail).No entries for tclean parameter dogrowprune found in history. (Fail).No entries for tclean parameter minpercentchange found in history. (Fail).No entries for tclean parameter verbose found in history. (Fail).No entries for tclean parameter fastnoise found in history. (Fail).No entries for tclean parameter restart found in history. (Fail).No entries for tclean parameter savemodel found in history. (Fail).No entries for tclean parameter calcres found in history. (Fail).No entries for tclean parameter calcpsf found in history. (Fail).No entries for tclean parameter parallel found in history. (Fail).[check_history] /export/home/ajax/jhoskins/Development/notebook/notebook-testing/standard_cube.iter1.image.pbcor: No calls to tclean were found in history. (Fail)\n",
      "No CASA version was found in history. (Fail)\n",
      "No entries for tclean parameter vis found in history. (Fail).No entries for tclean parameter selectdata found in history. (Fail).No entries for tclean parameter field found in history. (Fail).No entries for tclean parameter spw found in history. (Fail).No entries for tclean parameter timerange found in history. (Fail).No entries for tclean parameter uvrange found in history. (Fail).No entries for tclean parameter antenna found in history. (Fail).No entries for tclean parameter scan found in history. (Fail).No entries for tclean parameter observation found in history. (Fail).No entries for tclean parameter intent found in history. (Fail).No entries for tclean parameter datacolumn found in history. (Fail).No entries for tclean parameter imagename found in history. (Fail).No entries for tclean parameter imsize found in history. (Fail).No entries for tclean parameter cell found in history. (Fail).No entries for tclean parameter phasecenter found in history. (Fail).No entries for tclean parameter stokes found in history. (Fail).No entries for tclean parameter projection found in history. (Fail).No entries for tclean parameter startmodel found in history. (Fail).No entries for tclean parameter specmode found in history. (Fail).No entries for tclean parameter reffreq found in history. (Fail).No entries for tclean parameter nchan found in history. (Fail).No entries for tclean parameter start found in history. (Fail).No entries for tclean parameter width found in history. (Fail).No entries for tclean parameter outframe found in history. (Fail).No entries for tclean parameter veltype found in history. (Fail).No entries for tclean parameter restfreq found in history. (Fail).No entries for tclean parameter interpolation found in history. (Fail).No entries for tclean parameter perchanweightdensity found in history. (Fail).No entries for tclean parameter gridder found in history. (Fail).No entries for tclean parameter facets found in history. (Fail).No entries for tclean parameter psfphasecenter found in history. (Fail).No entries for tclean parameter chanchunks found in history. (Fail).No entries for tclean parameter wprojplanes found in history. (Fail).No entries for tclean parameter vptable found in history. (Fail).No entries for tclean parameter mosweight found in history. (Fail).No entries for tclean parameter aterm found in history. (Fail).No entries for tclean parameter psterm found in history. (Fail).No entries for tclean parameter wbawp found in history. (Fail).No entries for tclean parameter conjbeams found in history. (Fail).No entries for tclean parameter cfcache found in history. (Fail).No entries for tclean parameter usepointing found in history. (Fail).No entries for tclean parameter computepastep found in history. (Fail).No entries for tclean parameter rotatepastep found in history. (Fail).No entries for tclean parameter pointingoffsetsigdev found in history. (Fail).No entries for tclean parameter pblimit found in history. (Fail).No entries for tclean parameter normtype found in history. (Fail).No entries for tclean parameter deconvolver found in history. (Fail).No entries for tclean parameter scales found in history. (Fail).No entries for tclean parameter nterms found in history. (Fail).No entries for tclean parameter smallscalebias found in history. (Fail).No entries for tclean parameter restoration found in history. (Fail).No entries for tclean parameter restoringbeam found in history. (Fail).No entries for tclean parameter pbcor found in history. (Fail).No entries for tclean parameter outlierfile found in history. (Fail).No entries for tclean parameter weighting found in history. (Fail).No entries for tclean parameter robust found in history. (Fail).No entries for tclean parameter noise found in history. (Fail).No entries for tclean parameter npixels found in history. (Fail).No entries for tclean parameter uvtaper found in history. (Fail).No entries for tclean parameter niter found in history. (Fail).No entries for tclean parameter gain found in history. (Fail).No entries for tclean parameter threshold found in history. (Fail).No entries for tclean parameter nsigma found in history. (Fail).No entries for tclean parameter cycleniter found in history. (Fail).No entries for tclean parameter cyclefactor found in history. (Fail).No entries for tclean parameter minpsffraction found in history. (Fail).No entries for tclean parameter maxpsffraction found in history. (Fail).No entries for tclean parameter interactive found in history. (Fail).No entries for tclean parameter usemask found in history. (Fail).No entries for tclean parameter mask found in history. (Fail).No entries for tclean parameter pbmask found in history. (Fail).No entries for tclean parameter sidelobethreshold found in history. (Fail).No entries for tclean parameter noisethreshold found in history. (Fail).No entries for tclean parameter lownoisethreshold found in history. (Fail).No entries for tclean parameter negativethreshold found in history. (Fail).No entries for tclean parameter smoothfactor found in history. (Fail).No entries for tclean parameter minbeamfrac found in history. (Fail).No entries for tclean parameter cutthreshold found in history. (Fail).No entries for tclean parameter growiterations found in history. (Fail).No entries for tclean parameter dogrowprune found in history. (Fail).No entries for tclean parameter minpercentchange found in history. (Fail).No entries for tclean parameter verbose found in history. (Fail).No entries for tclean parameter fastnoise found in history. (Fail).No entries for tclean parameter restart found in history. (Fail).No entries for tclean parameter savemodel found in history. (Fail).No entries for tclean parameter calcres found in history. (Fail).No entries for tclean parameter calcpsf found in history. (Fail).No entries for tclean parameter parallel found in history. (Fail).[check_history] /export/home/ajax/jhoskins/Development/notebook/notebook-testing/standard_cube.iter1.mask: No calls to tclean were found in history. (Fail)\n",
      "No CASA version was found in history. (Fail)\n",
      "No entries for tclean parameter vis found in history. (Fail).No entries for tclean parameter selectdata found in history. (Fail).No entries for tclean parameter field found in history. (Fail).No entries for tclean parameter spw found in history. (Fail).No entries for tclean parameter timerange found in history. (Fail).No entries for tclean parameter uvrange found in history. (Fail).No entries for tclean parameter antenna found in history. (Fail).No entries for tclean parameter scan found in history. (Fail).No entries for tclean parameter observation found in history. (Fail).No entries for tclean parameter intent found in history. (Fail).No entries for tclean parameter datacolumn found in history. (Fail).No entries for tclean parameter imagename found in history. (Fail).No entries for tclean parameter imsize found in history. (Fail).No entries for tclean parameter cell found in history. (Fail).No entries for tclean parameter phasecenter found in history. (Fail).No entries for tclean parameter stokes found in history. (Fail).No entries for tclean parameter projection found in history. (Fail).No entries for tclean parameter startmodel found in history. (Fail).No entries for tclean parameter specmode found in history. (Fail).No entries for tclean parameter reffreq found in history. (Fail).No entries for tclean parameter nchan found in history. (Fail).No entries for tclean parameter start found in history. (Fail).No entries for tclean parameter width found in history. (Fail).No entries for tclean parameter outframe found in history. (Fail).No entries for tclean parameter veltype found in history. (Fail).No entries for tclean parameter restfreq found in history. (Fail).No entries for tclean parameter interpolation found in history. (Fail).No entries for tclean parameter perchanweightdensity found in history. (Fail).No entries for tclean parameter gridder found in history. (Fail).No entries for tclean parameter facets found in history. (Fail).No entries for tclean parameter psfphasecenter found in history. (Fail).No entries for tclean parameter chanchunks found in history. (Fail).No entries for tclean parameter wprojplanes found in history. (Fail).No entries for tclean parameter vptable found in history. (Fail).No entries for tclean parameter mosweight found in history. (Fail).No entries for tclean parameter aterm found in history. (Fail).No entries for tclean parameter psterm found in history. (Fail).No entries for tclean parameter wbawp found in history. (Fail).No entries for tclean parameter conjbeams found in history. (Fail).No entries for tclean parameter cfcache found in history. (Fail).No entries for tclean parameter usepointing found in history. (Fail).No entries for tclean parameter computepastep found in history. (Fail).No entries for tclean parameter rotatepastep found in history. (Fail).No entries for tclean parameter pointingoffsetsigdev found in history. (Fail).No entries for tclean parameter pblimit found in history. (Fail).No entries for tclean parameter normtype found in history. (Fail).No entries for tclean parameter deconvolver found in history. (Fail).No entries for tclean parameter scales found in history. (Fail).No entries for tclean parameter nterms found in history. (Fail).No entries for tclean parameter smallscalebias found in history. (Fail).No entries for tclean parameter restoration found in history. (Fail).No entries for tclean parameter restoringbeam found in history. (Fail).No entries for tclean parameter pbcor found in history. (Fail).No entries for tclean parameter outlierfile found in history. (Fail).No entries for tclean parameter weighting found in history. (Fail).No entries for tclean parameter robust found in history. (Fail).No entries for tclean parameter noise found in history. (Fail).No entries for tclean parameter npixels found in history. (Fail).No entries for tclean parameter uvtaper found in history. (Fail).No entries for tclean parameter niter found in history. (Fail).No entries for tclean parameter gain found in history. (Fail).No entries for tclean parameter threshold found in history. (Fail).No entries for tclean parameter nsigma found in history. (Fail).No entries for tclean parameter cycleniter found in history. (Fail).No entries for tclean parameter cyclefactor found in history. (Fail).No entries for tclean parameter minpsffraction found in history. (Fail).No entries for tclean parameter maxpsffraction found in history. (Fail).No entries for tclean parameter interactive found in history. (Fail).No entries for tclean parameter usemask found in history. (Fail).No entries for tclean parameter mask found in history. (Fail).No entries for tclean parameter pbmask found in history. (Fail).No entries for tclean parameter sidelobethreshold found in history. (Fail).No entries for tclean parameter noisethreshold found in history. (Fail).No entries for tclean parameter lownoisethreshold found in history. (Fail).No entries for tclean parameter negativethreshold found in history. (Fail).No entries for tclean parameter smoothfactor found in history. (Fail).No entries for tclean parameter minbeamfrac found in history. (Fail).No entries for tclean parameter cutthreshold found in history. (Fail).No entries for tclean parameter growiterations found in history. (Fail).No entries for tclean parameter dogrowprune found in history. (Fail).No entries for tclean parameter minpercentchange found in history. (Fail).No entries for tclean parameter verbose found in history. (Fail).No entries for tclean parameter fastnoise found in history. (Fail).No entries for tclean parameter restart found in history. (Fail).No entries for tclean parameter savemodel found in history. (Fail).No entries for tclean parameter calcres found in history. (Fail).No entries for tclean parameter calcpsf found in history. (Fail).No entries for tclean parameter parallel found in history. (Fail).[check_history] /export/home/ajax/jhoskins/Development/notebook/notebook-testing/standard_cube.iter1.pb: No calls to tclean were found in history. (Fail)\n",
      "No CASA version was found in history. (Fail)\n",
      "No entries for tclean parameter vis found in history. (Fail).No entries for tclean parameter selectdata found in history. (Fail).No entries for tclean parameter field found in history. (Fail).No entries for tclean parameter spw found in history. (Fail).No entries for tclean parameter timerange found in history. (Fail).No entries for tclean parameter uvrange found in history. (Fail).No entries for tclean parameter antenna found in history. (Fail).No entries for tclean parameter scan found in history. (Fail).No entries for tclean parameter observation found in history. (Fail).No entries for tclean parameter intent found in history. (Fail).No entries for tclean parameter datacolumn found in history. (Fail).No entries for tclean parameter imagename found in history. (Fail).No entries for tclean parameter imsize found in history. (Fail).No entries for tclean parameter cell found in history. (Fail).No entries for tclean parameter phasecenter found in history. (Fail).No entries for tclean parameter stokes found in history. (Fail).No entries for tclean parameter projection found in history. (Fail).No entries for tclean parameter startmodel found in history. (Fail).No entries for tclean parameter specmode found in history. (Fail).No entries for tclean parameter reffreq found in history. (Fail).No entries for tclean parameter nchan found in history. (Fail).No entries for tclean parameter start found in history. (Fail).No entries for tclean parameter width found in history. (Fail).No entries for tclean parameter outframe found in history. (Fail).No entries for tclean parameter veltype found in history. (Fail).No entries for tclean parameter restfreq found in history. (Fail).No entries for tclean parameter interpolation found in history. (Fail).No entries for tclean parameter perchanweightdensity found in history. (Fail).No entries for tclean parameter gridder found in history. (Fail).No entries for tclean parameter facets found in history. (Fail).No entries for tclean parameter psfphasecenter found in history. (Fail).No entries for tclean parameter chanchunks found in history. (Fail).No entries for tclean parameter wprojplanes found in history. (Fail).No entries for tclean parameter vptable found in history. (Fail).No entries for tclean parameter mosweight found in history. (Fail).No entries for tclean parameter aterm found in history. (Fail).No entries for tclean parameter psterm found in history. (Fail).No entries for tclean parameter wbawp found in history. (Fail).No entries for tclean parameter conjbeams found in history. (Fail).No entries for tclean parameter cfcache found in history. (Fail).No entries for tclean parameter usepointing found in history. (Fail).No entries for tclean parameter computepastep found in history. (Fail).No entries for tclean parameter rotatepastep found in history. (Fail).No entries for tclean parameter pointingoffsetsigdev found in history. (Fail).No entries for tclean parameter pblimit found in history. (Fail).No entries for tclean parameter normtype found in history. (Fail).No entries for tclean parameter deconvolver found in history. (Fail).No entries for tclean parameter scales found in history. (Fail).No entries for tclean parameter nterms found in history. (Fail).No entries for tclean parameter smallscalebias found in history. (Fail).No entries for tclean parameter restoration found in history. (Fail).No entries for tclean parameter restoringbeam found in history. (Fail).No entries for tclean parameter pbcor found in history. (Fail).No entries for tclean parameter outlierfile found in history. (Fail).No entries for tclean parameter weighting found in history. (Fail).No entries for tclean parameter robust found in history. (Fail).No entries for tclean parameter noise found in history. (Fail).No entries for tclean parameter npixels found in history. (Fail).No entries for tclean parameter uvtaper found in history. (Fail).No entries for tclean parameter niter found in history. (Fail).No entries for tclean parameter gain found in history. (Fail).No entries for tclean parameter threshold found in history. (Fail).No entries for tclean parameter nsigma found in history. (Fail).No entries for tclean parameter cycleniter found in history. (Fail).No entries for tclean parameter cyclefactor found in history. (Fail).No entries for tclean parameter minpsffraction found in history. (Fail).No entries for tclean parameter maxpsffraction found in history. (Fail).No entries for tclean parameter interactive found in history. (Fail).No entries for tclean parameter usemask found in history. (Fail).No entries for tclean parameter mask found in history. (Fail).No entries for tclean parameter pbmask found in history. (Fail).No entries for tclean parameter sidelobethreshold found in history. (Fail).No entries for tclean parameter noisethreshold found in history. (Fail).No entries for tclean parameter lownoisethreshold found in history. (Fail).No entries for tclean parameter negativethreshold found in history. (Fail).No entries for tclean parameter smoothfactor found in history. (Fail).No entries for tclean parameter minbeamfrac found in history. (Fail).No entries for tclean parameter cutthreshold found in history. (Fail).No entries for tclean parameter growiterations found in history. (Fail).No entries for tclean parameter dogrowprune found in history. (Fail).No entries for tclean parameter minpercentchange found in history. (Fail).No entries for tclean parameter verbose found in history. (Fail).No entries for tclean parameter fastnoise found in history. (Fail).No entries for tclean parameter restart found in history. (Fail).No entries for tclean parameter savemodel found in history. (Fail).No entries for tclean parameter calcres found in history. (Fail).No entries for tclean parameter calcpsf found in history. (Fail).No entries for tclean parameter parallel found in history. (Fail).[check_history] /export/home/ajax/jhoskins/Development/notebook/notebook-testing/standard_cube.iter1.model: No calls to tclean were found in history. (Fail)\n",
      "No CASA version was found in history. (Fail)\n",
      "No entries for tclean parameter vis found in history. (Fail).No entries for tclean parameter selectdata found in history. (Fail).No entries for tclean parameter field found in history. (Fail).No entries for tclean parameter spw found in history. (Fail).No entries for tclean parameter timerange found in history. (Fail).No entries for tclean parameter uvrange found in history. (Fail).No entries for tclean parameter antenna found in history. (Fail).No entries for tclean parameter scan found in history. (Fail).No entries for tclean parameter observation found in history. (Fail).No entries for tclean parameter intent found in history. (Fail).No entries for tclean parameter datacolumn found in history. (Fail).No entries for tclean parameter imagename found in history. (Fail).No entries for tclean parameter imsize found in history. (Fail).No entries for tclean parameter cell found in history. (Fail).No entries for tclean parameter phasecenter found in history. (Fail).No entries for tclean parameter stokes found in history. (Fail).No entries for tclean parameter projection found in history. (Fail).No entries for tclean parameter startmodel found in history. (Fail).No entries for tclean parameter specmode found in history. (Fail).No entries for tclean parameter reffreq found in history. (Fail).No entries for tclean parameter nchan found in history. (Fail).No entries for tclean parameter start found in history. (Fail).No entries for tclean parameter width found in history. (Fail).No entries for tclean parameter outframe found in history. (Fail).No entries for tclean parameter veltype found in history. (Fail).No entries for tclean parameter restfreq found in history. (Fail).No entries for tclean parameter interpolation found in history. (Fail).No entries for tclean parameter perchanweightdensity found in history. (Fail).No entries for tclean parameter gridder found in history. (Fail).No entries for tclean parameter facets found in history. (Fail).No entries for tclean parameter psfphasecenter found in history. (Fail).No entries for tclean parameter chanchunks found in history. (Fail).No entries for tclean parameter wprojplanes found in history. (Fail).No entries for tclean parameter vptable found in history. (Fail).No entries for tclean parameter mosweight found in history. (Fail).No entries for tclean parameter aterm found in history. (Fail).No entries for tclean parameter psterm found in history. (Fail).No entries for tclean parameter wbawp found in history. (Fail).No entries for tclean parameter conjbeams found in history. (Fail).No entries for tclean parameter cfcache found in history. (Fail).No entries for tclean parameter usepointing found in history. (Fail).No entries for tclean parameter computepastep found in history. (Fail).No entries for tclean parameter rotatepastep found in history. (Fail).No entries for tclean parameter pointingoffsetsigdev found in history. (Fail).No entries for tclean parameter pblimit found in history. (Fail).No entries for tclean parameter normtype found in history. (Fail).No entries for tclean parameter deconvolver found in history. (Fail).No entries for tclean parameter scales found in history. (Fail).No entries for tclean parameter nterms found in history. (Fail).No entries for tclean parameter smallscalebias found in history. (Fail).No entries for tclean parameter restoration found in history. (Fail).No entries for tclean parameter restoringbeam found in history. (Fail).No entries for tclean parameter pbcor found in history. (Fail).No entries for tclean parameter outlierfile found in history. (Fail).No entries for tclean parameter weighting found in history. (Fail).No entries for tclean parameter robust found in history. (Fail).No entries for tclean parameter noise found in history. (Fail).No entries for tclean parameter npixels found in history. (Fail).No entries for tclean parameter uvtaper found in history. (Fail).No entries for tclean parameter niter found in history. (Fail).No entries for tclean parameter gain found in history. (Fail).No entries for tclean parameter threshold found in history. (Fail).No entries for tclean parameter nsigma found in history. (Fail).No entries for tclean parameter cycleniter found in history. (Fail).No entries for tclean parameter cyclefactor found in history. (Fail).No entries for tclean parameter minpsffraction found in history. (Fail).No entries for tclean parameter maxpsffraction found in history. (Fail).No entries for tclean parameter interactive found in history. (Fail).No entries for tclean parameter usemask found in history. (Fail).No entries for tclean parameter mask found in history. (Fail).No entries for tclean parameter pbmask found in history. (Fail).No entries for tclean parameter sidelobethreshold found in history. (Fail).No entries for tclean parameter noisethreshold found in history. (Fail).No entries for tclean parameter lownoisethreshold found in history. (Fail).No entries for tclean parameter negativethreshold found in history. (Fail).No entries for tclean parameter smoothfactor found in history. (Fail).No entries for tclean parameter minbeamfrac found in history. (Fail).No entries for tclean parameter cutthreshold found in history. (Fail).No entries for tclean parameter growiterations found in history. (Fail).No entries for tclean parameter dogrowprune found in history. (Fail).No entries for tclean parameter minpercentchange found in history. (Fail).No entries for tclean parameter verbose found in history. (Fail).No entries for tclean parameter fastnoise found in history. (Fail).No entries for tclean parameter restart found in history. (Fail).No entries for tclean parameter savemodel found in history. (Fail).No entries for tclean parameter calcres found in history. (Fail).No entries for tclean parameter calcpsf found in history. (Fail).No entries for tclean parameter parallel found in history. (Fail).[check_history] /export/home/ajax/jhoskins/Development/notebook/notebook-testing/standard_cube.iter1.sumwt: No calls to tclean were found in history. (Fail)\n",
      "No CASA version was found in history. (Fail)\n",
      "No entries for tclean parameter vis found in history. (Fail).No entries for tclean parameter selectdata found in history. (Fail).No entries for tclean parameter field found in history. (Fail).No entries for tclean parameter spw found in history. (Fail).No entries for tclean parameter timerange found in history. (Fail).No entries for tclean parameter uvrange found in history. (Fail).No entries for tclean parameter antenna found in history. (Fail).No entries for tclean parameter scan found in history. (Fail).No entries for tclean parameter observation found in history. (Fail).No entries for tclean parameter intent found in history. (Fail).No entries for tclean parameter datacolumn found in history. (Fail).No entries for tclean parameter imagename found in history. (Fail).No entries for tclean parameter imsize found in history. (Fail).No entries for tclean parameter cell found in history. (Fail).No entries for tclean parameter phasecenter found in history. (Fail).No entries for tclean parameter stokes found in history. (Fail).No entries for tclean parameter projection found in history. (Fail).No entries for tclean parameter startmodel found in history. (Fail).No entries for tclean parameter specmode found in history. (Fail).No entries for tclean parameter reffreq found in history. (Fail).No entries for tclean parameter nchan found in history. (Fail).No entries for tclean parameter start found in history. (Fail).No entries for tclean parameter width found in history. (Fail).No entries for tclean parameter outframe found in history. (Fail).No entries for tclean parameter veltype found in history. (Fail).No entries for tclean parameter restfreq found in history. (Fail).No entries for tclean parameter interpolation found in history. (Fail).No entries for tclean parameter perchanweightdensity found in history. (Fail).No entries for tclean parameter gridder found in history. (Fail).No entries for tclean parameter facets found in history. (Fail).No entries for tclean parameter psfphasecenter found in history. (Fail).No entries for tclean parameter chanchunks found in history. (Fail).No entries for tclean parameter wprojplanes found in history. (Fail).No entries for tclean parameter vptable found in history. (Fail).No entries for tclean parameter mosweight found in history. (Fail).No entries for tclean parameter aterm found in history. (Fail).No entries for tclean parameter psterm found in history. (Fail).No entries for tclean parameter wbawp found in history. (Fail).No entries for tclean parameter conjbeams found in history. (Fail).No entries for tclean parameter cfcache found in history. (Fail).No entries for tclean parameter usepointing found in history. (Fail).No entries for tclean parameter computepastep found in history. (Fail).No entries for tclean parameter rotatepastep found in history. (Fail).No entries for tclean parameter pointingoffsetsigdev found in history. (Fail).No entries for tclean parameter pblimit found in history. (Fail).No entries for tclean parameter normtype found in history. (Fail).No entries for tclean parameter deconvolver found in history. (Fail).No entries for tclean parameter scales found in history. (Fail).No entries for tclean parameter nterms found in history. (Fail).No entries for tclean parameter smallscalebias found in history. (Fail).No entries for tclean parameter restoration found in history. (Fail).No entries for tclean parameter restoringbeam found in history. (Fail).No entries for tclean parameter pbcor found in history. (Fail).No entries for tclean parameter outlierfile found in history. (Fail).No entries for tclean parameter weighting found in history. (Fail).No entries for tclean parameter robust found in history. (Fail).No entries for tclean parameter noise found in history. (Fail).No entries for tclean parameter npixels found in history. (Fail).No entries for tclean parameter uvtaper found in history. (Fail).No entries for tclean parameter niter found in history. (Fail).No entries for tclean parameter gain found in history. (Fail).No entries for tclean parameter threshold found in history. (Fail).No entries for tclean parameter nsigma found in history. (Fail).No entries for tclean parameter cycleniter found in history. (Fail).No entries for tclean parameter cyclefactor found in history. (Fail).No entries for tclean parameter minpsffraction found in history. (Fail).No entries for tclean parameter maxpsffraction found in history. (Fail).No entries for tclean parameter interactive found in history. (Fail).No entries for tclean parameter usemask found in history. (Fail).No entries for tclean parameter mask found in history. (Fail).No entries for tclean parameter pbmask found in history. (Fail).No entries for tclean parameter sidelobethreshold found in history. (Fail).No entries for tclean parameter noisethreshold found in history. (Fail).No entries for tclean parameter lownoisethreshold found in history. (Fail).No entries for tclean parameter negativethreshold found in history. (Fail).No entries for tclean parameter smoothfactor found in history. (Fail).No entries for tclean parameter minbeamfrac found in history. (Fail).No entries for tclean parameter cutthreshold found in history. (Fail).No entries for tclean parameter growiterations found in history. (Fail).No entries for tclean parameter dogrowprune found in history. (Fail).No entries for tclean parameter minpercentchange found in history. (Fail).No entries for tclean parameter verbose found in history. (Fail).No entries for tclean parameter fastnoise found in history. (Fail).No entries for tclean parameter restart found in history. (Fail).No entries for tclean parameter savemodel found in history. (Fail).No entries for tclean parameter calcres found in history. (Fail).No entries for tclean parameter calcpsf found in history. (Fail).No entries for tclean parameter parallel found in history. (Fail).\n"
     ]
    },
    {
     "name": "stdout",
     "output_type": "stream",
     "text": [
      "--> Reports finished.\n"
     ]
    }
   ],
   "source": [
    "standard.standard_cube()"
   ]
  },
  {
   "cell_type": "code",
   "execution_count": 5,
   "metadata": {},
   "outputs": [
    {
     "data": {
      "text/plain": [
       "True"
      ]
     },
     "execution_count": 5,
     "metadata": {},
     "output_type": "execute_result"
    }
   ],
   "source": [
    "_ia = image()\n",
    "_ia.open('standard_cube.iter1.image')\n",
    "\n",
    "_ib = image()\n",
    "_ib.open('standard_cube.iter1.residual')"
   ]
  },
  {
   "cell_type": "code",
   "execution_count": 6,
   "metadata": {},
   "outputs": [
    {
     "data": {
      "text/plain": [
       "[]"
      ]
     },
     "execution_count": 6,
     "metadata": {},
     "output_type": "execute_result"
    }
   ],
   "source": [
    "_ia.history(list=False)"
   ]
  },
  {
   "cell_type": "code",
   "execution_count": 7,
   "metadata": {},
   "outputs": [],
   "source": [
    "cube = _ia.getchunk()\n",
    "cube_residual = _ib.getchunk()"
   ]
  },
  {
   "cell_type": "code",
   "execution_count": 8,
   "metadata": {},
   "outputs": [
    {
     "data": {
      "text/plain": [
       "True"
      ]
     },
     "execution_count": 8,
     "metadata": {},
     "output_type": "execute_result"
    }
   ],
   "source": [
    "data = []\n",
    "residual = []\n",
    "\n",
    "for i in range(50,90):\n",
    "    data.append({'d': [ cube[:,:,0,i].transpose()]})\n",
    "    residual.append({'r': [ cube_residual[:,:,0,i].transpose()]})\n",
    "\n",
    "_ia.close()\n",
    "_ib.close()"
   ]
  },
  {
   "cell_type": "code",
   "execution_count": 9,
   "metadata": {},
   "outputs": [],
   "source": [
    "source = ColumnDataSource(data=data[0])\n",
    "\n",
    "fig = figure(tooltips=[(\"x\", \"$x\"), (\"y\", \"$y\"), (\"value\", \"@image\")])\n",
    "fig.x_range.range_padding = fig.y_range.range_padding = 0\n",
    "fig.image(\n",
    "    image=\"d\", \n",
    "    x=0, \n",
    "    y=0, \n",
    "    dw=cube.shape[0], \n",
    "    dh=cube.shape[1], \n",
    "    palette=\"Spectral11\", \n",
    "    level=\"image\", \n",
    "    source=source )\n",
    "\n",
    "fig.grid.grid_line_width = 0.5"
   ]
  },
  {
   "cell_type": "code",
   "execution_count": 10,
   "metadata": {},
   "outputs": [],
   "source": [
    "residual_source = ColumnDataSource(data=residual[0])\n",
    "\n",
    "fig_r = figure(tooltips=[(\"x\", \"$x\"), (\"y\", \"$y\"), (\"value\", \"@image\")])\n",
    "fig_r.x_range.range_padding = fig_r.y_range.range_padding = 0\n",
    "fig_r.image(\n",
    "    image=\"r\", \n",
    "    x=0, \n",
    "    y=0, \n",
    "    dw=cube_residual.shape[0], \n",
    "    dh=cube_residual.shape[1], \n",
    "    palette=\"Spectral11\", \n",
    "    level=\"image\", \n",
    "    source=residual_source)\n",
    "\n",
    "fig_r.grid.grid_line_width = 0.5"
   ]
  },
  {
   "cell_type": "code",
   "execution_count": 11,
   "metadata": {},
   "outputs": [],
   "source": [
    "class WSSlider(Slider):\n",
    "\n",
    "    __implementation__ = JavaScript(\n",
    "        \"\"\"\n",
    "        import {Slider, SliderView} from \"models/widgets/slider\"\n",
    "        export class WSSliderView extends SliderView {}\n",
    "        WSSliderView.__name__ = \"WSSliderView\";\n",
    "        \n",
    "        export class WSSlider extends Slider {\n",
    "            constructor(attrs) {\n",
    "            super(attrs);\n",
    "        \n",
    "            this.websocket = new WebSocket(\"ws://127.0.0.1:6799/\");\n",
    "            this.websocket.onopen = () => this.websocket.send(JSON.stringify({action: 'established'}));\n",
    "        }\n",
    "        connect_signals() {\n",
    "            super.connect_signals( );\n",
    "            console.info(this)\n",
    "            this.on_change([this.properties.value], \n",
    "                () => this.websocket.send(JSON.stringify({\n",
    "                    action: 'channel', \n",
    "                    value: this.value}))\n",
    "            )\n",
    "        }}\n",
    "            WSSlider.__name__ = \"WSSlider\";\n",
    "        \"\"\" )"
   ]
  },
  {
   "cell_type": "code",
   "execution_count": 12,
   "metadata": {},
   "outputs": [],
   "source": [
    "slider = WSSlider(start=0, end=len(data)-1, value=0, step=1, title=\"Channel\")\n",
    "\n",
    "#callback = CustomJS(\n",
    "#    args=dict(\n",
    "#        source=source,\n",
    "#        data=data,\n",
    "#        slider=slider), \n",
    "#    code=\"\"\"\n",
    "#    source.data = data[slider.value];\n",
    "#    \"\"\")\n",
    "\n",
    "#slider.js_on_change('value', callback)\n",
    "slider.js_on_change(\"value\", CustomJS(\n",
    "    args=dict(\n",
    "        source=source,\n",
    "        source1=residual_source,\n",
    "        data=data,\n",
    "        data1=residual, \n",
    "        slider=slider), \n",
    "    code=\"\"\"\n",
    "    source.data = data[slider.value]\n",
    "    source1.data = data1[slider.value]\n",
    "    \"\"\"))\n",
    "\n",
    "layout = column(row(fig, fig_r), slider)\n",
    "show(layout)"
   ]
  },
  {
   "cell_type": "code",
   "execution_count": null,
   "metadata": {},
   "outputs": [],
   "source": []
  }
 ],
 "metadata": {
  "kernelspec": {
   "display_name": "Python 3",
   "language": "python",
   "name": "python3"
  },
  "language_info": {
   "codemirror_mode": {
    "name": "ipython",
    "version": 3
   },
   "file_extension": ".py",
   "mimetype": "text/x-python",
   "name": "python",
   "nbconvert_exporter": "python",
   "pygments_lexer": "ipython3",
   "version": "3.6.8"
  }
 },
 "nbformat": 4,
 "nbformat_minor": 4
}
